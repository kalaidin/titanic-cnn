{
 "cells": [
  {
   "cell_type": "markdown",
   "metadata": {},
   "source": [
    "Titanic dataset: predicting survived passengers"
   ]
  },
  {
   "cell_type": "code",
   "execution_count": 396,
   "metadata": {
    "collapsed": false
   },
   "outputs": [],
   "source": [
    "from keras.layers import Input, Dense, Activation, LSTM, merge, Conv1D, MaxPooling1D, Flatten, Dropout, Embedding, GlobalMaxPooling1D\n",
    "from keras.models import Model\n",
    "from keras.callbacks import Callback\n",
    "from keras.optimizers import Adam"
   ]
  },
  {
   "cell_type": "code",
   "execution_count": 37,
   "metadata": {
    "collapsed": true
   },
   "outputs": [],
   "source": [
    "from IPython.display import SVG\n",
    "from keras.utils.visualize_util import model_to_dot"
   ]
  },
  {
   "cell_type": "code",
   "execution_count": 2,
   "metadata": {
    "collapsed": false
   },
   "outputs": [],
   "source": [
    "from sklearn.metrics import accuracy_score, roc_auc_score, log_loss"
   ]
  },
  {
   "cell_type": "code",
   "execution_count": 3,
   "metadata": {
    "collapsed": false
   },
   "outputs": [],
   "source": [
    "%matplotlib inline\n",
    "import seaborn as sns\n",
    "import matplotlib.pyplot as plt"
   ]
  },
  {
   "cell_type": "code",
   "execution_count": 4,
   "metadata": {
    "collapsed": true
   },
   "outputs": [],
   "source": [
    "import pandas as pd\n",
    "import numpy as np"
   ]
  },
  {
   "cell_type": "code",
   "execution_count": 5,
   "metadata": {
    "collapsed": true
   },
   "outputs": [],
   "source": [
    "train_df = pd.read_csv(\"./train.csv\")\n",
    "test_df = pd.read_csv(\"./test.csv\")"
   ]
  },
  {
   "cell_type": "code",
   "execution_count": 6,
   "metadata": {
    "collapsed": false
   },
   "outputs": [],
   "source": [
    "labels = train_df.Survived.values\n",
    "train_df.drop('Survived', axis=1, inplace=True)"
   ]
  },
  {
   "cell_type": "code",
   "execution_count": 7,
   "metadata": {
    "collapsed": true
   },
   "outputs": [],
   "source": [
    "train_df = train_df.fillna(0)\n",
    "test_df = test_df.fillna(0)"
   ]
  },
  {
   "cell_type": "code",
   "execution_count": 8,
   "metadata": {
    "collapsed": true
   },
   "outputs": [],
   "source": [
    "train_df[\"Sex\"] = train_df[\"Sex\"].apply(lambda x: 1 if x == \"male\" else 0)\n",
    "test_df[\"Sex\"] = train_df[\"Sex\"].apply(lambda x: 1 if x == \"male\" else 0)"
   ]
  },
  {
   "cell_type": "code",
   "execution_count": 9,
   "metadata": {
    "collapsed": true
   },
   "outputs": [],
   "source": [
    "train_df[\"Cabin\"] = train_df[\"Cabin\"].apply(lambda x: 1 if x != 0 else 0)\n",
    "test_df[\"Cabin\"] = train_df[\"Cabin\"].apply(lambda x: 1 if x != 0 else 0)"
   ]
  },
  {
   "cell_type": "code",
   "execution_count": 10,
   "metadata": {
    "collapsed": false
   },
   "outputs": [
    {
     "data": {
      "text/html": [
       "<div>\n",
       "<table border=\"1\" class=\"dataframe\">\n",
       "  <thead>\n",
       "    <tr style=\"text-align: right;\">\n",
       "      <th></th>\n",
       "      <th>PassengerId</th>\n",
       "      <th>Pclass</th>\n",
       "      <th>Name</th>\n",
       "      <th>Sex</th>\n",
       "      <th>Age</th>\n",
       "      <th>SibSp</th>\n",
       "      <th>Parch</th>\n",
       "      <th>Ticket</th>\n",
       "      <th>Fare</th>\n",
       "      <th>Cabin</th>\n",
       "      <th>Embarked</th>\n",
       "    </tr>\n",
       "  </thead>\n",
       "  <tbody>\n",
       "    <tr>\n",
       "      <th>0</th>\n",
       "      <td>1</td>\n",
       "      <td>3</td>\n",
       "      <td>Braund, Mr. Owen Harris</td>\n",
       "      <td>1</td>\n",
       "      <td>22.0</td>\n",
       "      <td>1</td>\n",
       "      <td>0</td>\n",
       "      <td>A/5 21171</td>\n",
       "      <td>7.2500</td>\n",
       "      <td>0</td>\n",
       "      <td>S</td>\n",
       "    </tr>\n",
       "    <tr>\n",
       "      <th>1</th>\n",
       "      <td>2</td>\n",
       "      <td>1</td>\n",
       "      <td>Cumings, Mrs. John Bradley (Florence Briggs Th...</td>\n",
       "      <td>0</td>\n",
       "      <td>38.0</td>\n",
       "      <td>1</td>\n",
       "      <td>0</td>\n",
       "      <td>PC 17599</td>\n",
       "      <td>71.2833</td>\n",
       "      <td>1</td>\n",
       "      <td>C</td>\n",
       "    </tr>\n",
       "    <tr>\n",
       "      <th>2</th>\n",
       "      <td>3</td>\n",
       "      <td>3</td>\n",
       "      <td>Heikkinen, Miss. Laina</td>\n",
       "      <td>0</td>\n",
       "      <td>26.0</td>\n",
       "      <td>0</td>\n",
       "      <td>0</td>\n",
       "      <td>STON/O2. 3101282</td>\n",
       "      <td>7.9250</td>\n",
       "      <td>0</td>\n",
       "      <td>S</td>\n",
       "    </tr>\n",
       "    <tr>\n",
       "      <th>3</th>\n",
       "      <td>4</td>\n",
       "      <td>1</td>\n",
       "      <td>Futrelle, Mrs. Jacques Heath (Lily May Peel)</td>\n",
       "      <td>0</td>\n",
       "      <td>35.0</td>\n",
       "      <td>1</td>\n",
       "      <td>0</td>\n",
       "      <td>113803</td>\n",
       "      <td>53.1000</td>\n",
       "      <td>1</td>\n",
       "      <td>S</td>\n",
       "    </tr>\n",
       "    <tr>\n",
       "      <th>4</th>\n",
       "      <td>5</td>\n",
       "      <td>3</td>\n",
       "      <td>Allen, Mr. William Henry</td>\n",
       "      <td>1</td>\n",
       "      <td>35.0</td>\n",
       "      <td>0</td>\n",
       "      <td>0</td>\n",
       "      <td>373450</td>\n",
       "      <td>8.0500</td>\n",
       "      <td>0</td>\n",
       "      <td>S</td>\n",
       "    </tr>\n",
       "  </tbody>\n",
       "</table>\n",
       "</div>"
      ],
      "text/plain": [
       "   PassengerId  Pclass                                               Name  \\\n",
       "0            1       3                            Braund, Mr. Owen Harris   \n",
       "1            2       1  Cumings, Mrs. John Bradley (Florence Briggs Th...   \n",
       "2            3       3                             Heikkinen, Miss. Laina   \n",
       "3            4       1       Futrelle, Mrs. Jacques Heath (Lily May Peel)   \n",
       "4            5       3                           Allen, Mr. William Henry   \n",
       "\n",
       "   Sex   Age  SibSp  Parch            Ticket     Fare  Cabin Embarked  \n",
       "0    1  22.0      1      0         A/5 21171   7.2500      0        S  \n",
       "1    0  38.0      1      0          PC 17599  71.2833      1        C  \n",
       "2    0  26.0      0      0  STON/O2. 3101282   7.9250      0        S  \n",
       "3    0  35.0      1      0            113803  53.1000      1        S  \n",
       "4    1  35.0      0      0            373450   8.0500      0        S  "
      ]
     },
     "execution_count": 10,
     "metadata": {},
     "output_type": "execute_result"
    }
   ],
   "source": [
    "train_df.head()"
   ]
  },
  {
   "cell_type": "code",
   "execution_count": 433,
   "metadata": {
    "collapsed": true
   },
   "outputs": [],
   "source": [
    "numeric_features = [\"Pclass\", \"Sex\", \"Age\", \"SibSp\", \"Parch\", \"Fare\", \"Cabin\"]"
   ]
  },
  {
   "cell_type": "code",
   "execution_count": 434,
   "metadata": {
    "collapsed": false
   },
   "outputs": [],
   "source": [
    "X_numeric = train_df[numeric_features].values"
   ]
  },
  {
   "cell_type": "code",
   "execution_count": 435,
   "metadata": {
    "collapsed": false
   },
   "outputs": [
    {
     "data": {
      "text/plain": [
       "(891, 7)"
      ]
     },
     "execution_count": 435,
     "metadata": {},
     "output_type": "execute_result"
    }
   ],
   "source": [
    "X_numeric.shape"
   ]
  },
  {
   "cell_type": "code",
   "execution_count": 436,
   "metadata": {
    "collapsed": true
   },
   "outputs": [],
   "source": [
    "text_features = [\"Name\", \"Ticket\", \"Embarked\"]"
   ]
  },
  {
   "cell_type": "code",
   "execution_count": 437,
   "metadata": {
    "collapsed": true
   },
   "outputs": [],
   "source": [
    "def load_data(symbols):\n",
    "    vocab = {}\n",
    "    words = list(symbols.lower())\n",
    "    for i, word in enumerate(words):\n",
    "        if word not in vocab:\n",
    "            vocab[word] = len(vocab)\n",
    "    print('corpus length:', len(words))\n",
    "    print('vocab size:', len(vocab))\n",
    "    return vocab"
   ]
  },
  {
   "cell_type": "code",
   "execution_count": 438,
   "metadata": {
    "collapsed": false
   },
   "outputs": [],
   "source": [
    "all_symbols = \"\"\n",
    "for x in train_df[text_features].values:\n",
    "    all_symbols += \" \".join(map(str, x)) + \" \""
   ]
  },
  {
   "cell_type": "code",
   "execution_count": 439,
   "metadata": {
    "collapsed": false
   },
   "outputs": [
    {
     "name": "stdout",
     "output_type": "stream",
     "text": [
      "corpus length: 33605\n",
      "vocab size: 45\n"
     ]
    }
   ],
   "source": [
    "vocab = load_data(all_symbols)"
   ]
  },
  {
   "cell_type": "code",
   "execution_count": 440,
   "metadata": {
    "collapsed": false
   },
   "outputs": [],
   "source": [
    "max_name_length = train_df.Name.apply(len).max()\n",
    "max_ticket_length = train_df.Ticket.apply(len).max()\n",
    "train_df[\"Embarked\"] = train_df.Embarked.apply(lambda x: \"s\" if x == 0 else x.lower())\n",
    "max_embarked_length = train_df.Embarked.apply(len).max()"
   ]
  },
  {
   "cell_type": "code",
   "execution_count": 441,
   "metadata": {
    "collapsed": false
   },
   "outputs": [],
   "source": [
    "X_text = np.zeros((891, max_name_length + max_ticket_length + max_embarked_length))"
   ]
  },
  {
   "cell_type": "code",
   "execution_count": 442,
   "metadata": {
    "collapsed": false
   },
   "outputs": [],
   "source": [
    "for e, i in enumerate(train_df[text_features].iterrows()):\n",
    "    name = i[1][\"Name\"].lower()\n",
    "    ticket = i[1][\"Ticket\"].lower()\n",
    "    emb = i[1][\"Embarked\"].lower()\n",
    "    for p, w in enumerate(name):\n",
    "        X_text[e, p] = vocab[w]\n",
    "    for p, w in enumerate(ticket):\n",
    "        X_text[e, p + max_name_length] = vocab[w]\n",
    "    for p, w in enumerate(emb):\n",
    "        X_text[e, p + max_name_length + max_ticket_length] = vocab[w] "
   ]
  },
  {
   "cell_type": "code",
   "execution_count": 443,
   "metadata": {
    "collapsed": false
   },
   "outputs": [
    {
     "data": {
      "text/plain": [
       "(891, 101)"
      ]
     },
     "execution_count": 443,
     "metadata": {},
     "output_type": "execute_result"
    }
   ],
   "source": [
    "X_text.shape"
   ]
  },
  {
   "cell_type": "code",
   "execution_count": 444,
   "metadata": {
    "collapsed": false
   },
   "outputs": [
    {
     "data": {
      "text/plain": [
       "(891, 7)"
      ]
     },
     "execution_count": 444,
     "metadata": {},
     "output_type": "execute_result"
    }
   ],
   "source": [
    "X_numeric.shape"
   ]
  },
  {
   "cell_type": "code",
   "execution_count": 445,
   "metadata": {
    "collapsed": true
   },
   "outputs": [],
   "source": [
    "split_n = int(0.25 * len(train_df))"
   ]
  },
  {
   "cell_type": "code",
   "execution_count": 446,
   "metadata": {
    "collapsed": false
   },
   "outputs": [
    {
     "data": {
      "text/plain": [
       "222"
      ]
     },
     "execution_count": 446,
     "metadata": {},
     "output_type": "execute_result"
    }
   ],
   "source": [
    "split_n"
   ]
  },
  {
   "cell_type": "code",
   "execution_count": 447,
   "metadata": {
    "collapsed": true
   },
   "outputs": [],
   "source": [
    "X_text_train, X_text_test = X_text[split_n:], X_text[:split_n]\n",
    "X_numeric_train, X_numeric_test = X_numeric[split_n:], X_numeric[:split_n]"
   ]
  },
  {
   "cell_type": "code",
   "execution_count": 448,
   "metadata": {
    "collapsed": true
   },
   "outputs": [],
   "source": [
    "y_train, y_test = labels[split_n:], labels[:split_n]"
   ]
  },
  {
   "cell_type": "code",
   "execution_count": 449,
   "metadata": {
    "collapsed": false
   },
   "outputs": [
    {
     "data": {
      "text/plain": [
       "(0.39461883408071746, 0.35135135135135137)"
      ]
     },
     "execution_count": 449,
     "metadata": {},
     "output_type": "execute_result"
    }
   ],
   "source": [
    "y_train.mean(), y_test.mean()"
   ]
  },
  {
   "cell_type": "code",
   "execution_count": 450,
   "metadata": {
    "collapsed": false
   },
   "outputs": [
    {
     "data": {
      "text/plain": [
       "45"
      ]
     },
     "execution_count": 450,
     "metadata": {},
     "output_type": "execute_result"
    }
   ],
   "source": [
    "len(vocab)"
   ]
  },
  {
   "cell_type": "code",
   "execution_count": 451,
   "metadata": {
    "collapsed": false
   },
   "outputs": [],
   "source": [
    "numeric_input = Input(shape=(7,), name='numeric_input')\n",
    "y = Dense(3)(numeric_input)\n",
    "\n",
    "text_input = Input(shape=(101,), name='text_input')\n",
    "x = Embedding(len(vocab), 64, input_length=101) (text_input)\n",
    "x = Conv1D(16, 4, activation='relu', subsample_length=1)(x)\n",
    "x = GlobalMaxPooling1D()(x)\n",
    "x = Dense(16)(x)\n",
    "x = Dropout(0.5)(x)\n",
    "\n",
    "conv_output = Dense(1, activation='sigmoid', name='conv_output')(x)\n",
    "\n",
    "x = merge([x, y], mode='concat')\n",
    "\n",
    "preds = Dense(1, activation='sigmoid', name='main_output')(x)"
   ]
  },
  {
   "cell_type": "code",
   "execution_count": 452,
   "metadata": {
    "collapsed": true
   },
   "outputs": [],
   "source": [
    "adam = Adam(lr=0.0001)"
   ]
  },
  {
   "cell_type": "code",
   "execution_count": 453,
   "metadata": {
    "collapsed": false
   },
   "outputs": [],
   "source": [
    "model = Model(input=[numeric_input, text_input], output=[preds, conv_output])\n",
    "model.compile(loss='binary_crossentropy', optimizer=adam, metrics=[\"accuracy\"], loss_weights=[1, 0.2])"
   ]
  },
  {
   "cell_type": "code",
   "execution_count": 454,
   "metadata": {
    "collapsed": false
   },
   "outputs": [
    {
     "name": "stdout",
     "output_type": "stream",
     "text": [
      "____________________________________________________________________________________________________\n",
      "Layer (type)                     Output Shape          Param #     Connected to                     \n",
      "====================================================================================================\n",
      "text_input (InputLayer)          (None, 101)           0                                            \n",
      "____________________________________________________________________________________________________\n",
      "embedding_15 (Embedding)         (None, 101, 64)       2880        text_input[0][0]                 \n",
      "____________________________________________________________________________________________________\n",
      "convolution1d_57 (Convolution1D) (None, 98, 16)        4112        embedding_15[0][0]               \n",
      "____________________________________________________________________________________________________\n",
      "globalmaxpooling1d_6 (GlobalMaxPo(None, 16)            0           convolution1d_57[0][0]           \n",
      "____________________________________________________________________________________________________\n",
      "dense_7 (Dense)                  (None, 16)            272         globalmaxpooling1d_6[0][0]       \n",
      "____________________________________________________________________________________________________\n",
      "numeric_input (InputLayer)       (None, 7)             0                                            \n",
      "____________________________________________________________________________________________________\n",
      "dropout_41 (Dropout)             (None, 16)            0           dense_7[0][0]                    \n",
      "____________________________________________________________________________________________________\n",
      "dense_6 (Dense)                  (None, 3)             24          numeric_input[0][0]              \n",
      "____________________________________________________________________________________________________\n",
      "merge_19 (Merge)                 (None, 19)            0           dropout_41[0][0]                 \n",
      "                                                                   dense_6[0][0]                    \n",
      "____________________________________________________________________________________________________\n",
      "main_output (Dense)              (None, 1)             20          merge_19[0][0]                   \n",
      "____________________________________________________________________________________________________\n",
      "conv_output (Dense)              (None, 1)             17          dropout_41[0][0]                 \n",
      "====================================================================================================\n",
      "Total params: 7325\n",
      "____________________________________________________________________________________________________\n"
     ]
    }
   ],
   "source": [
    "model.summary()"
   ]
  },
  {
   "cell_type": "code",
   "execution_count": 455,
   "metadata": {
    "collapsed": false
   },
   "outputs": [
    {
     "data": {
      "image/svg+xml": [
       "<svg height=\"556pt\" viewBox=\"0.00 0.00 468.00 556.00\" width=\"468pt\" xmlns=\"http://www.w3.org/2000/svg\" xmlns:xlink=\"http://www.w3.org/1999/xlink\">\n",
       "<g class=\"graph\" id=\"graph0\" transform=\"scale(1 1) rotate(0) translate(4 552)\">\n",
       "<title>G</title>\n",
       "<polygon fill=\"white\" points=\"-4,4 -4,-552 464,-552 464,4 -4,4\" stroke=\"none\"/>\n",
       "<!-- 139961391472200 -->\n",
       "<g class=\"node\" id=\"node1\"><title>139961391472200</title>\n",
       "<polygon fill=\"none\" points=\"78.5,-511.5 78.5,-547.5 257.5,-547.5 257.5,-511.5 78.5,-511.5\" stroke=\"black\"/>\n",
       "<text font-family=\"Times,serif\" font-size=\"14.00\" text-anchor=\"middle\" x=\"168\" y=\"-525.8\">text_input: InputLayer</text>\n",
       "</g>\n",
       "<!-- 139961291323096 -->\n",
       "<g class=\"node\" id=\"node2\"><title>139961291323096</title>\n",
       "<polygon fill=\"none\" points=\"62,-438.5 62,-474.5 274,-474.5 274,-438.5 62,-438.5\" stroke=\"black\"/>\n",
       "<text font-family=\"Times,serif\" font-size=\"14.00\" text-anchor=\"middle\" x=\"168\" y=\"-452.8\">embedding_15: Embedding</text>\n",
       "</g>\n",
       "<!-- 139961391472200&#45;&gt;139961291323096 -->\n",
       "<g class=\"edge\" id=\"edge1\"><title>139961391472200-&gt;139961291323096</title>\n",
       "<path d=\"M168,-511.313C168,-503.289 168,-493.547 168,-484.569\" fill=\"none\" stroke=\"black\"/>\n",
       "<polygon fill=\"black\" points=\"171.5,-484.529 168,-474.529 164.5,-484.529 171.5,-484.529\" stroke=\"black\"/>\n",
       "</g>\n",
       "<!-- 139961291324160 -->\n",
       "<g class=\"node\" id=\"node3\"><title>139961291324160</title>\n",
       "<polygon fill=\"none\" points=\"38.5,-365.5 38.5,-401.5 297.5,-401.5 297.5,-365.5 38.5,-365.5\" stroke=\"black\"/>\n",
       "<text font-family=\"Times,serif\" font-size=\"14.00\" text-anchor=\"middle\" x=\"168\" y=\"-379.8\">convolution1d_57: Convolution1D</text>\n",
       "</g>\n",
       "<!-- 139961291323096&#45;&gt;139961291324160 -->\n",
       "<g class=\"edge\" id=\"edge2\"><title>139961291323096-&gt;139961291324160</title>\n",
       "<path d=\"M168,-438.313C168,-430.289 168,-420.547 168,-411.569\" fill=\"none\" stroke=\"black\"/>\n",
       "<polygon fill=\"black\" points=\"171.5,-411.529 168,-401.529 164.5,-411.529 171.5,-411.529\" stroke=\"black\"/>\n",
       "</g>\n",
       "<!-- 139961725548584 -->\n",
       "<g class=\"node\" id=\"node4\"><title>139961725548584</title>\n",
       "<polygon fill=\"none\" points=\"0,-292.5 0,-328.5 336,-328.5 336,-292.5 0,-292.5\" stroke=\"black\"/>\n",
       "<text font-family=\"Times,serif\" font-size=\"14.00\" text-anchor=\"middle\" x=\"168\" y=\"-306.8\">globalmaxpooling1d_6: GlobalMaxPooling1D</text>\n",
       "</g>\n",
       "<!-- 139961291324160&#45;&gt;139961725548584 -->\n",
       "<g class=\"edge\" id=\"edge3\"><title>139961291324160-&gt;139961725548584</title>\n",
       "<path d=\"M168,-365.313C168,-357.289 168,-347.547 168,-338.569\" fill=\"none\" stroke=\"black\"/>\n",
       "<polygon fill=\"black\" points=\"171.5,-338.529 168,-328.529 164.5,-338.529 171.5,-338.529\" stroke=\"black\"/>\n",
       "</g>\n",
       "<!-- 139961391544640 -->\n",
       "<g class=\"node\" id=\"node5\"><title>139961391544640</title>\n",
       "<polygon fill=\"none\" points=\"104,-219.5 104,-255.5 232,-255.5 232,-219.5 104,-219.5\" stroke=\"black\"/>\n",
       "<text font-family=\"Times,serif\" font-size=\"14.00\" text-anchor=\"middle\" x=\"168\" y=\"-233.8\">dense_7: Dense</text>\n",
       "</g>\n",
       "<!-- 139961725548584&#45;&gt;139961391544640 -->\n",
       "<g class=\"edge\" id=\"edge4\"><title>139961725548584-&gt;139961391544640</title>\n",
       "<path d=\"M168,-292.313C168,-284.289 168,-274.547 168,-265.569\" fill=\"none\" stroke=\"black\"/>\n",
       "<polygon fill=\"black\" points=\"171.5,-265.529 168,-255.529 164.5,-265.529 171.5,-265.529\" stroke=\"black\"/>\n",
       "</g>\n",
       "<!-- 139961391369968 -->\n",
       "<g class=\"node\" id=\"node7\"><title>139961391369968</title>\n",
       "<polygon fill=\"none\" points=\"94,-146.5 94,-182.5 260,-182.5 260,-146.5 94,-146.5\" stroke=\"black\"/>\n",
       "<text font-family=\"Times,serif\" font-size=\"14.00\" text-anchor=\"middle\" x=\"177\" y=\"-160.8\">dropout_41: Dropout</text>\n",
       "</g>\n",
       "<!-- 139961391544640&#45;&gt;139961391369968 -->\n",
       "<g class=\"edge\" id=\"edge5\"><title>139961391544640-&gt;139961391369968</title>\n",
       "<path d=\"M170.179,-219.313C171.196,-211.289 172.431,-201.547 173.569,-192.569\" fill=\"none\" stroke=\"black\"/>\n",
       "<polygon fill=\"black\" points=\"177.056,-192.89 174.841,-182.529 170.112,-192.009 177.056,-192.89\" stroke=\"black\"/>\n",
       "</g>\n",
       "<!-- 139961391471864 -->\n",
       "<g class=\"node\" id=\"node6\"><title>139961391471864</title>\n",
       "<polygon fill=\"none\" points=\"250,-219.5 250,-255.5 460,-255.5 460,-219.5 250,-219.5\" stroke=\"black\"/>\n",
       "<text font-family=\"Times,serif\" font-size=\"14.00\" text-anchor=\"middle\" x=\"355\" y=\"-233.8\">numeric_input: InputLayer</text>\n",
       "</g>\n",
       "<!-- 139961391471808 -->\n",
       "<g class=\"node\" id=\"node8\"><title>139961391471808</title>\n",
       "<polygon fill=\"none\" points=\"288,-146.5 288,-182.5 416,-182.5 416,-146.5 288,-146.5\" stroke=\"black\"/>\n",
       "<text font-family=\"Times,serif\" font-size=\"14.00\" text-anchor=\"middle\" x=\"352\" y=\"-160.8\">dense_6: Dense</text>\n",
       "</g>\n",
       "<!-- 139961391471864&#45;&gt;139961391471808 -->\n",
       "<g class=\"edge\" id=\"edge6\"><title>139961391471864-&gt;139961391471808</title>\n",
       "<path d=\"M354.274,-219.313C353.935,-211.289 353.523,-201.547 353.144,-192.569\" fill=\"none\" stroke=\"black\"/>\n",
       "<polygon fill=\"black\" points=\"356.639,-192.372 352.72,-182.529 349.645,-192.668 356.639,-192.372\" stroke=\"black\"/>\n",
       "</g>\n",
       "<!-- 139961391505536 -->\n",
       "<g class=\"node\" id=\"node9\"><title>139961391505536</title>\n",
       "<polygon fill=\"none\" points=\"278,-73.5 278,-109.5 422,-109.5 422,-73.5 278,-73.5\" stroke=\"black\"/>\n",
       "<text font-family=\"Times,serif\" font-size=\"14.00\" text-anchor=\"middle\" x=\"350\" y=\"-87.8\">merge_19: Merge</text>\n",
       "</g>\n",
       "<!-- 139961391369968&#45;&gt;139961391505536 -->\n",
       "<g class=\"edge\" id=\"edge7\"><title>139961391369968-&gt;139961391505536</title>\n",
       "<path d=\"M218.438,-146.494C242.547,-136.599 273.137,-124.045 298.751,-113.533\" fill=\"none\" stroke=\"black\"/>\n",
       "<polygon fill=\"black\" points=\"300.378,-116.648 308.301,-109.614 297.721,-110.172 300.378,-116.648\" stroke=\"black\"/>\n",
       "</g>\n",
       "<!-- 139961391368344 -->\n",
       "<g class=\"node\" id=\"node11\"><title>139961391368344</title>\n",
       "<polygon fill=\"none\" points=\"98,-73.5 98,-109.5 256,-109.5 256,-73.5 98,-73.5\" stroke=\"black\"/>\n",
       "<text font-family=\"Times,serif\" font-size=\"14.00\" text-anchor=\"middle\" x=\"177\" y=\"-87.8\">conv_output: Dense</text>\n",
       "</g>\n",
       "<!-- 139961391369968&#45;&gt;139961391368344 -->\n",
       "<g class=\"edge\" id=\"edge10\"><title>139961391369968-&gt;139961391368344</title>\n",
       "<path d=\"M177,-146.313C177,-138.289 177,-128.547 177,-119.569\" fill=\"none\" stroke=\"black\"/>\n",
       "<polygon fill=\"black\" points=\"180.5,-119.529 177,-109.529 173.5,-119.529 180.5,-119.529\" stroke=\"black\"/>\n",
       "</g>\n",
       "<!-- 139961391471808&#45;&gt;139961391505536 -->\n",
       "<g class=\"edge\" id=\"edge8\"><title>139961391471808-&gt;139961391505536</title>\n",
       "<path d=\"M351.516,-146.313C351.29,-138.289 351.015,-128.547 350.763,-119.569\" fill=\"none\" stroke=\"black\"/>\n",
       "<polygon fill=\"black\" points=\"354.26,-119.426 350.48,-109.529 347.263,-119.623 354.26,-119.426\" stroke=\"black\"/>\n",
       "</g>\n",
       "<!-- 139961391455256 -->\n",
       "<g class=\"node\" id=\"node10\"><title>139961391455256</title>\n",
       "<polygon fill=\"none\" points=\"270,-0.5 270,-36.5 430,-36.5 430,-0.5 270,-0.5\" stroke=\"black\"/>\n",
       "<text font-family=\"Times,serif\" font-size=\"14.00\" text-anchor=\"middle\" x=\"350\" y=\"-14.8\">main_output: Dense</text>\n",
       "</g>\n",
       "<!-- 139961391505536&#45;&gt;139961391455256 -->\n",
       "<g class=\"edge\" id=\"edge9\"><title>139961391505536-&gt;139961391455256</title>\n",
       "<path d=\"M350,-73.3129C350,-65.2895 350,-55.5475 350,-46.5691\" fill=\"none\" stroke=\"black\"/>\n",
       "<polygon fill=\"black\" points=\"353.5,-46.5288 350,-36.5288 346.5,-46.5289 353.5,-46.5288\" stroke=\"black\"/>\n",
       "</g>\n",
       "</g>\n",
       "</svg>"
      ],
      "text/plain": [
       "<IPython.core.display.SVG object>"
      ]
     },
     "execution_count": 455,
     "metadata": {},
     "output_type": "execute_result"
    }
   ],
   "source": [
    "SVG(model_to_dot(model).create(prog='dot', format='svg'))"
   ]
  },
  {
   "cell_type": "code",
   "execution_count": 456,
   "metadata": {
    "collapsed": true
   },
   "outputs": [],
   "source": [
    "N_EPOCHS = 100"
   ]
  },
  {
   "cell_type": "code",
   "execution_count": 457,
   "metadata": {
    "collapsed": false,
    "scrolled": false
   },
   "outputs": [
    {
     "name": "stdout",
     "output_type": "stream",
     "text": [
      "CPU times: user 21.2 s, sys: 304 ms, total: 21.5 s\n",
      "Wall time: 22.8 s\n"
     ]
    }
   ],
   "source": [
    "%%time\n",
    "train_scores = []\n",
    "test_scores = []\n",
    "for epoch in range(N_EPOCHS):\n",
    "    model.fit([X_numeric_train, X_text_train], [y_train, y_train], nb_epoch=1, batch_size=8, verbose=0)\n",
    "    probas = model.predict([X_numeric_train, X_text_train])[0]\n",
    "    a, r, l = accuracy_score(y_train, probas > 0.5), roc_auc_score(y_train, probas), log_loss(y_train, probas)\n",
    "    train_scores.append((a, r, l))\n",
    "    probas = model.predict([X_numeric_test, X_text_test])[0]\n",
    "    a, r, l = accuracy_score(y_test, probas > 0.5), roc_auc_score(y_test, probas), log_loss(y_test, probas)\n",
    "    test_scores.append((a, r, l))"
   ]
  },
  {
   "cell_type": "code",
   "execution_count": 458,
   "metadata": {
    "collapsed": true
   },
   "outputs": [],
   "source": [
    "probas = model.predict([X_numeric_test, X_text_test])[0]"
   ]
  },
  {
   "cell_type": "code",
   "execution_count": 459,
   "metadata": {
    "collapsed": false
   },
   "outputs": [
    {
     "data": {
      "text/plain": [
       "0.35572314"
      ]
     },
     "execution_count": 459,
     "metadata": {},
     "output_type": "execute_result"
    }
   ],
   "source": [
    "probas.mean()"
   ]
  },
  {
   "cell_type": "code",
   "execution_count": 460,
   "metadata": {
    "collapsed": false
   },
   "outputs": [],
   "source": [
    "train_scores = pd.DataFrame([x for x in train_scores], columns=[\"accuracy\", \"roc_auc\", \"log_loss\"])\n",
    "test_scores = pd.DataFrame([x for x in test_scores], columns=[\"accuracy\", \"roc_auc\", \"log_loss\"])\n",
    "train_scores[\"phase\"] = \"train\"\n",
    "test_scores[\"phase\"] = \"test\"\n",
    "scores = pd.concat([train_scores, test_scores])\n",
    "scores[\"epoch\"] = scores.index"
   ]
  },
  {
   "cell_type": "code",
   "execution_count": 461,
   "metadata": {
    "collapsed": false
   },
   "outputs": [
    {
     "data": {
      "image/png": "[encoded data removed]",
      "text/plain": [
       "<matplotlib.figure.Figure at 0x7f4b463914a8>"
      ]
     },
     "metadata": {},
     "output_type": "display_data"
    }
   ],
   "source": [
    "plt.plot(scores[scores.phase==\"train\"].epoch, scores[scores.phase==\"train\"].roc_auc)\n",
    "plt.plot(scores[scores.phase==\"test\"].epoch, scores[scores.phase==\"test\"].roc_auc)\n",
    "plt.show()"
   ]
  },
  {
   "cell_type": "code",
   "execution_count": 462,
   "metadata": {
    "collapsed": false
   },
   "outputs": [
    {
     "data": {
      "image/png": "[encoded data removed]",
      "text/plain": [
       "<matplotlib.figure.Figure at 0x7f4b46c5c0b8>"
      ]
     },
     "metadata": {},
     "output_type": "display_data"
    }
   ],
   "source": [
    "plt.plot(scores[scores.phase==\"train\"].epoch, scores[scores.phase==\"train\"].accuracy)\n",
    "plt.plot(scores[scores.phase==\"test\"].epoch, scores[scores.phase==\"test\"].accuracy)\n",
    "plt.show()"
   ]
  },
  {
   "cell_type": "code",
   "execution_count": 464,
   "metadata": {
    "collapsed": false
   },
   "outputs": [
    {
     "data": {
      "image/png": "[encoded data removed]",
      "text/plain": [
       "<matplotlib.figure.Figure at 0x7f4b4c0dd6d8>"
      ]
     },
     "metadata": {},
     "output_type": "display_data"
    }
   ],
   "source": [
    "plt.plot(scores[scores.phase==\"train\"].epoch, scores[scores.phase==\"train\"].log_loss)\n",
    "plt.plot(scores[scores.phase==\"test\"].epoch, scores[scores.phase==\"test\"].log_loss)\n",
    "plt.show()"
   ]
  },
  {
   "cell_type": "code",
   "execution_count": 469,
   "metadata": {
    "collapsed": false
   },
   "outputs": [],
   "source": [
    "X_numeric_submit = test_df[numeric_features].values"
   ]
  },
  {
   "cell_type": "code",
   "execution_count": 470,
   "metadata": {
    "collapsed": false
   },
   "outputs": [
    {
     "data": {
      "text/plain": [
       "(418, 7)"
      ]
     },
     "execution_count": 470,
     "metadata": {},
     "output_type": "execute_result"
    }
   ],
   "source": [
    "X_numeric_submit.shape"
   ]
  },
  {
   "cell_type": "code",
   "execution_count": 471,
   "metadata": {
    "collapsed": true
   },
   "outputs": [],
   "source": [
    "X_text_submit = np.zeros((418, max_name_length + max_ticket_length + max_embarked_length))"
   ]
  },
  {
   "cell_type": "code",
   "execution_count": 472,
   "metadata": {
    "collapsed": false
   },
   "outputs": [],
   "source": [
    "for e, i in enumerate(test_df[text_features].iterrows()):\n",
    "    name = i[1][\"Name\"].lower()\n",
    "    ticket = i[1][\"Ticket\"].lower()\n",
    "    emb = i[1][\"Embarked\"].lower()\n",
    "    for p, w in enumerate(name):\n",
    "        X_text_submit[e, p] = vocab[w]\n",
    "    for p, w in enumerate(ticket):\n",
    "        X_text_submit[e, p + max_name_length] = vocab[w]\n",
    "    for p, w in enumerate(emb):\n",
    "        X_text_submit[e, p + max_name_length + max_ticket_length] = vocab[w] "
   ]
  },
  {
   "cell_type": "code",
   "execution_count": 473,
   "metadata": {
    "collapsed": false
   },
   "outputs": [
    {
     "data": {
      "text/plain": [
       "(418, 101)"
      ]
     },
     "execution_count": 473,
     "metadata": {},
     "output_type": "execute_result"
    }
   ],
   "source": [
    "X_text_submit.shape"
   ]
  },
  {
   "cell_type": "code",
   "execution_count": 474,
   "metadata": {
    "collapsed": false
   },
   "outputs": [
    {
     "data": {
      "text/plain": [
       "(418, 7)"
      ]
     },
     "execution_count": 474,
     "metadata": {},
     "output_type": "execute_result"
    }
   ],
   "source": [
    "X_numeric_submit.shape"
   ]
  },
  {
   "cell_type": "code",
   "execution_count": 475,
   "metadata": {
    "collapsed": false
   },
   "outputs": [],
   "source": [
    "submit_probas = model.predict([X_numeric_submit, X_text_submit])[0]"
   ]
  },
  {
   "cell_type": "code",
   "execution_count": 481,
   "metadata": {
    "collapsed": false
   },
   "outputs": [
    {
     "data": {
      "text/plain": [
       "0.35645933014354064"
      ]
     },
     "execution_count": 481,
     "metadata": {},
     "output_type": "execute_result"
    }
   ],
   "source": [
    "np.mean(submit_probas > 0.5)"
   ]
  },
  {
   "cell_type": "code",
   "execution_count": 482,
   "metadata": {
    "collapsed": false
   },
   "outputs": [
    {
     "data": {
      "text/plain": [
       "0.39461883408071746"
      ]
     },
     "execution_count": 482,
     "metadata": {},
     "output_type": "execute_result"
    }
   ],
   "source": [
    "np.mean(y_train)"
   ]
  },
  {
   "cell_type": "code",
   "execution_count": 483,
   "metadata": {
    "collapsed": false
   },
   "outputs": [
    {
     "data": {
      "text/html": [
       "<div>\n",
       "<table border=\"1\" class=\"dataframe\">\n",
       "  <thead>\n",
       "    <tr style=\"text-align: right;\">\n",
       "      <th></th>\n",
       "      <th>PassengerId</th>\n",
       "      <th>Pclass</th>\n",
       "      <th>Name</th>\n",
       "      <th>Sex</th>\n",
       "      <th>Age</th>\n",
       "      <th>SibSp</th>\n",
       "      <th>Parch</th>\n",
       "      <th>Ticket</th>\n",
       "      <th>Fare</th>\n",
       "      <th>Cabin</th>\n",
       "      <th>Embarked</th>\n",
       "    </tr>\n",
       "  </thead>\n",
       "  <tbody>\n",
       "    <tr>\n",
       "      <th>0</th>\n",
       "      <td>892</td>\n",
       "      <td>3</td>\n",
       "      <td>Kelly, Mr. James</td>\n",
       "      <td>0</td>\n",
       "      <td>34.5</td>\n",
       "      <td>0</td>\n",
       "      <td>0</td>\n",
       "      <td>330911</td>\n",
       "      <td>7.8292</td>\n",
       "      <td>0</td>\n",
       "      <td>Q</td>\n",
       "    </tr>\n",
       "    <tr>\n",
       "      <th>1</th>\n",
       "      <td>893</td>\n",
       "      <td>3</td>\n",
       "      <td>Wilkes, Mrs. James (Ellen Needs)</td>\n",
       "      <td>0</td>\n",
       "      <td>47.0</td>\n",
       "      <td>1</td>\n",
       "      <td>0</td>\n",
       "      <td>363272</td>\n",
       "      <td>7.0000</td>\n",
       "      <td>1</td>\n",
       "      <td>S</td>\n",
       "    </tr>\n",
       "    <tr>\n",
       "      <th>2</th>\n",
       "      <td>894</td>\n",
       "      <td>2</td>\n",
       "      <td>Myles, Mr. Thomas Francis</td>\n",
       "      <td>0</td>\n",
       "      <td>62.0</td>\n",
       "      <td>0</td>\n",
       "      <td>0</td>\n",
       "      <td>240276</td>\n",
       "      <td>9.6875</td>\n",
       "      <td>0</td>\n",
       "      <td>Q</td>\n",
       "    </tr>\n",
       "    <tr>\n",
       "      <th>3</th>\n",
       "      <td>895</td>\n",
       "      <td>3</td>\n",
       "      <td>Wirz, Mr. Albert</td>\n",
       "      <td>0</td>\n",
       "      <td>27.0</td>\n",
       "      <td>0</td>\n",
       "      <td>0</td>\n",
       "      <td>315154</td>\n",
       "      <td>8.6625</td>\n",
       "      <td>1</td>\n",
       "      <td>S</td>\n",
       "    </tr>\n",
       "    <tr>\n",
       "      <th>4</th>\n",
       "      <td>896</td>\n",
       "      <td>3</td>\n",
       "      <td>Hirvonen, Mrs. Alexander (Helga E Lindqvist)</td>\n",
       "      <td>0</td>\n",
       "      <td>22.0</td>\n",
       "      <td>1</td>\n",
       "      <td>1</td>\n",
       "      <td>3101298</td>\n",
       "      <td>12.2875</td>\n",
       "      <td>0</td>\n",
       "      <td>S</td>\n",
       "    </tr>\n",
       "  </tbody>\n",
       "</table>\n",
       "</div>"
      ],
      "text/plain": [
       "   PassengerId  Pclass                                          Name  Sex  \\\n",
       "0          892       3                              Kelly, Mr. James    0   \n",
       "1          893       3              Wilkes, Mrs. James (Ellen Needs)    0   \n",
       "2          894       2                     Myles, Mr. Thomas Francis    0   \n",
       "3          895       3                              Wirz, Mr. Albert    0   \n",
       "4          896       3  Hirvonen, Mrs. Alexander (Helga E Lindqvist)    0   \n",
       "\n",
       "    Age  SibSp  Parch   Ticket     Fare  Cabin Embarked  \n",
       "0  34.5      0      0   330911   7.8292      0        Q  \n",
       "1  47.0      1      0   363272   7.0000      1        S  \n",
       "2  62.0      0      0   240276   9.6875      0        Q  \n",
       "3  27.0      0      0   315154   8.6625      1        S  \n",
       "4  22.0      1      1  3101298  12.2875      0        S  "
      ]
     },
     "execution_count": 483,
     "metadata": {},
     "output_type": "execute_result"
    }
   ],
   "source": [
    "test_df.head()"
   ]
  },
  {
   "cell_type": "code",
   "execution_count": 486,
   "metadata": {
    "collapsed": false
   },
   "outputs": [],
   "source": [
    "with open(\"/data/pavel/submit.out\", \"w\") as f:\n",
    "    print(\"PassengerId,Survived\", file=f)\n",
    "    for i, s in zip(test_df.PassengerId.values, submit_probas):\n",
    "        print(i, 1 if s > 0.5 else 0, file=f, sep=\",\")"
   ]
  }
 ],
 "metadata": {
  "kernelspec": {
   "display_name": "Python [default]",
   "language": "python",
   "name": "python3"
  },
  "language_info": {
   "codemirror_mode": {
    "name": "ipython",
    "version": 3
   },
   "file_extension": ".py",
   "mimetype": "text/x-python",
   "name": "python",
   "nbconvert_exporter": "python",
   "pygments_lexer": "ipython3",
   "version": "3.5.2"
  }
 },
 "nbformat": 4,
 "nbformat_minor": 0
}
